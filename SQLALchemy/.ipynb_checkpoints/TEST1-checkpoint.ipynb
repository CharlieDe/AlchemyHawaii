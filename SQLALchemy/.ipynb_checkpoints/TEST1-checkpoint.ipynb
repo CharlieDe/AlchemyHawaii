{
 "cells": [
  {
   "cell_type": "code",
   "execution_count": 1,
   "metadata": {},
   "outputs": [],
   "source": [
    "from sqlalchemy import create_engine\n",
    "database_path = \"hawaii.sqlite\""
   ]
  },
  {
   "cell_type": "code",
   "execution_count": 2,
   "metadata": {},
   "outputs": [],
   "source": [
    "engine = create_engine(f\"sqlite:///{database_path}\")"
   ]
  },
  {
   "cell_type": "code",
   "execution_count": 3,
   "metadata": {},
   "outputs": [],
   "source": [
    "import sqlalchemy\n",
    "from sqlalchemy.ext.automap import automap_base\n",
    "from sqlalchemy.orm import Session\n",
    "from sqlalchemy import create_engine, inspect, func"
   ]
  },
  {
   "cell_type": "code",
   "execution_count": 4,
   "metadata": {},
   "outputs": [
    {
     "data": {
      "text/plain": [
       "['measurement', 'station']"
      ]
     },
     "execution_count": 4,
     "metadata": {},
     "output_type": "execute_result"
    }
   ],
   "source": [
    "inspector = inspect(engine)\n",
    "inspector.get_table_names()"
   ]
  },
  {
   "cell_type": "code",
   "execution_count": 5,
   "metadata": {},
   "outputs": [
    {
     "name": "stdout",
     "output_type": "stream",
     "text": [
      "id INTEGER\n",
      "station TEXT\n",
      "date TEXT\n",
      "prcp FLOAT\n",
      "tobs FLOAT\n"
     ]
    }
   ],
   "source": [
    "columns = inspector.get_columns('measurement')\n",
    "for column in columns:\n",
    "    print(column[\"name\"], column[\"type\"])"
   ]
  },
  {
   "cell_type": "code",
   "execution_count": 6,
   "metadata": {},
   "outputs": [
    {
     "name": "stdout",
     "output_type": "stream",
     "text": [
      "id INTEGER\n",
      "station TEXT\n",
      "name TEXT\n",
      "latitude FLOAT\n",
      "longitude FLOAT\n",
      "elevation FLOAT\n"
     ]
    }
   ],
   "source": [
    "columnss = inspector.get_columns('station')\n",
    "for column in columnss:\n",
    "    print(column[\"name\"], column[\"type\"])"
   ]
  },
  {
   "cell_type": "code",
   "execution_count": 7,
   "metadata": {},
   "outputs": [],
   "source": [
    "Base = automap_base()\n",
    "Base.prepare(engine, reflect=True)"
   ]
  },
  {
   "cell_type": "code",
   "execution_count": 8,
   "metadata": {},
   "outputs": [
    {
     "data": {
      "text/plain": [
       "['measurement', 'station']"
      ]
     },
     "execution_count": 8,
     "metadata": {},
     "output_type": "execute_result"
    }
   ],
   "source": [
    "Base.classes.keys()"
   ]
  },
  {
   "cell_type": "code",
   "execution_count": 9,
   "metadata": {},
   "outputs": [],
   "source": [
    "session = Session(engine)"
   ]
  },
  {
   "cell_type": "code",
   "execution_count": 10,
   "metadata": {},
   "outputs": [
    {
     "data": {
      "text/plain": [
       "{'_sa_instance_state': <sqlalchemy.orm.state.InstanceState at 0x6e4b070>,\n",
       " 'station': 'USC00519397',\n",
       " 'prcp': 0.08,\n",
       " 'id': 1,\n",
       " 'tobs': 65.0,\n",
       " 'date': '2010-01-01'}"
      ]
     },
     "execution_count": 10,
     "metadata": {},
     "output_type": "execute_result"
    }
   ],
   "source": [
    "Measurement = Base.classes.measurement\n",
    "Frow = session.query(Measurement).first()\n",
    "Frow.__dict__"
   ]
  },
  {
   "cell_type": "code",
   "execution_count": 11,
   "metadata": {},
   "outputs": [
    {
     "data": {
      "text/plain": [
       "{'_sa_instance_state': <sqlalchemy.orm.state.InstanceState at 0x6c147b0>,\n",
       " 'latitude': 21.2716,\n",
       " 'name': 'WAIKIKI 717.2, HI US',\n",
       " 'id': 1,\n",
       " 'longitude': -157.8168,\n",
       " 'elevation': 3.0,\n",
       " 'station': 'USC00519397'}"
      ]
     },
     "execution_count": 11,
     "metadata": {},
     "output_type": "execute_result"
    }
   ],
   "source": [
    "Station = Base.classes.station\n",
    "Frow = session.query(Station).first()\n",
    "Frow.__dict__"
   ]
  },
  {
   "cell_type": "markdown",
   "metadata": {},
   "source": [
    "Precipitation Analysis"
   ]
  },
  {
   "cell_type": "code",
   "execution_count": 12,
   "metadata": {},
   "outputs": [
    {
     "data": {
      "text/plain": [
       "[('2017-08-23'),\n",
       " ('2017-08-23'),\n",
       " ('2017-08-23'),\n",
       " ('2017-08-23'),\n",
       " ('2017-08-22'),\n",
       " ('2017-08-22'),\n",
       " ('2017-08-22'),\n",
       " ('2017-08-21'),\n",
       " ('2017-08-21'),\n",
       " ('2017-08-21'),\n",
       " ('2017-08-21'),\n",
       " ('2017-08-20')]"
      ]
     },
     "execution_count": 12,
     "metadata": {},
     "output_type": "execute_result"
    }
   ],
   "source": [
    "import datetime as dt\n",
    "#session.query(Measurement.prcp).limit(12).\\\n",
    "#Design a query to retrieve the last 12 months of precipitation data.\n",
    "session.query(Measurement.date).order_by(Measurement.date.desc()).limit(12).all()"
   ]
  },
  {
   "cell_type": "code",
   "execution_count": 13,
   "metadata": {},
   "outputs": [
    {
     "name": "stdout",
     "output_type": "stream",
     "text": [
      "Query Date:  2016-08-23\n"
     ]
    }
   ],
   "source": [
    "query_date = dt.date(2017, 8, 23) - dt.timedelta(days=365)\n",
    "print(\"Query Date: \", query_date)"
   ]
  },
  {
   "cell_type": "code",
   "execution_count": 25,
   "metadata": {},
   "outputs": [],
   "source": [
    "Precipt_month = session.query(Measurement.date, Measurement.prcp).\\\n",
    "    filter (Measurement.date >= query_date).all()"
   ]
  },
  {
   "cell_type": "code",
   "execution_count": 26,
   "metadata": {},
   "outputs": [],
   "source": [
    "import pandas as pd\n",
    "DataT = pd.DataFrame(Precipt_month)"
   ]
  },
  {
   "cell_type": "code",
   "execution_count": 27,
   "metadata": {},
   "outputs": [
    {
     "data": {
      "text/html": [
       "<div>\n",
       "<style scoped>\n",
       "    .dataframe tbody tr th:only-of-type {\n",
       "        vertical-align: middle;\n",
       "    }\n",
       "\n",
       "    .dataframe tbody tr th {\n",
       "        vertical-align: top;\n",
       "    }\n",
       "\n",
       "    .dataframe thead th {\n",
       "        text-align: right;\n",
       "    }\n",
       "</style>\n",
       "<table border=\"1\" class=\"dataframe\">\n",
       "  <thead>\n",
       "    <tr style=\"text-align: right;\">\n",
       "      <th></th>\n",
       "      <th>date</th>\n",
       "      <th>prcp</th>\n",
       "    </tr>\n",
       "  </thead>\n",
       "  <tbody>\n",
       "    <tr>\n",
       "      <th>0</th>\n",
       "      <td>2016-08-23</td>\n",
       "      <td>0.00</td>\n",
       "    </tr>\n",
       "    <tr>\n",
       "      <th>1</th>\n",
       "      <td>2016-08-24</td>\n",
       "      <td>0.08</td>\n",
       "    </tr>\n",
       "    <tr>\n",
       "      <th>2</th>\n",
       "      <td>2016-08-25</td>\n",
       "      <td>0.08</td>\n",
       "    </tr>\n",
       "    <tr>\n",
       "      <th>3</th>\n",
       "      <td>2016-08-26</td>\n",
       "      <td>0.00</td>\n",
       "    </tr>\n",
       "    <tr>\n",
       "      <th>4</th>\n",
       "      <td>2016-08-27</td>\n",
       "      <td>0.00</td>\n",
       "    </tr>\n",
       "  </tbody>\n",
       "</table>\n",
       "</div>"
      ],
      "text/plain": [
       "         date  prcp\n",
       "0  2016-08-23  0.00\n",
       "1  2016-08-24  0.08\n",
       "2  2016-08-25  0.08\n",
       "3  2016-08-26  0.00\n",
       "4  2016-08-27  0.00"
      ]
     },
     "execution_count": 27,
     "metadata": {},
     "output_type": "execute_result"
    }
   ],
   "source": [
    "DataT.head()"
   ]
  },
  {
   "cell_type": "code",
   "execution_count": 17,
   "metadata": {},
   "outputs": [],
   "source": [
    "import matplotlib.pyplot as plt\n"
   ]
  },
  {
   "cell_type": "code",
   "execution_count": 18,
   "metadata": {},
   "outputs": [],
   "source": [
    "#MISSING BAR GRAPH"
   ]
  },
  {
   "cell_type": "markdown",
   "metadata": {},
   "source": [
    "Station Analysis"
   ]
  },
  {
   "cell_type": "code",
   "execution_count": 19,
   "metadata": {},
   "outputs": [
    {
     "name": "stdout",
     "output_type": "stream",
     "text": [
      "The number of stations is:  [(9,)]\n"
     ]
    },
    {
     "data": {
      "text/plain": [
       "[('USC00519397'),\n",
       " ('USC00513117'),\n",
       " ('USC00514830'),\n",
       " ('USC00517948'),\n",
       " ('USC00518838'),\n",
       " ('USC00519523'),\n",
       " ('USC00519281'),\n",
       " ('USC00511918'),\n",
       " ('USC00516128')]"
      ]
     },
     "execution_count": 19,
     "metadata": {},
     "output_type": "execute_result"
    }
   ],
   "source": [
    "#Number of Stations\n",
    "Nu_s = session.query(func.count(Station.station)).all()\n",
    "print(\"The number of stations is: \", Nu_s)\n",
    "sts = session.query(Station.station).all()\n",
    "sts"
   ]
  },
  {
   "cell_type": "code",
   "execution_count": 20,
   "metadata": {},
   "outputs": [
    {
     "data": {
      "text/plain": [
       "[('USC00519523')]"
      ]
     },
     "execution_count": 20,
     "metadata": {},
     "output_type": "execute_result"
    }
   ],
   "source": [
    "#Station wit highest number of observations\n",
    "session.query(func.max(Measurement.station)).all()\n"
   ]
  },
  {
   "cell_type": "code",
   "execution_count": 21,
   "metadata": {},
   "outputs": [
    {
     "data": {
      "text/plain": [
       "[('USC00519281', 2772),\n",
       " ('USC00519397', 2724),\n",
       " ('USC00513117', 2709),\n",
       " ('USC00519523', 2669),\n",
       " ('USC00516128', 2612),\n",
       " ('USC00514830', 2202),\n",
       " ('USC00511918', 1979),\n",
       " ('USC00517948', 1372),\n",
       " ('USC00518838', 511)]"
      ]
     },
     "execution_count": 21,
     "metadata": {},
     "output_type": "execute_result"
    }
   ],
   "source": [
    "#List stations and observation count in descending order\n",
    "ObserDesc = session.query(Measurement.station, func.count(Measurement.station)).\\\n",
    "    group_by(Measurement.station).\\\n",
    "    order_by(func.count(Measurement.station).desc()).all()\n",
    "ObserDesc"
   ]
  },
  {
   "cell_type": "code",
   "execution_count": 36,
   "metadata": {},
   "outputs": [
    {
     "data": {
      "text/plain": [
       "[('2016-08-23', 'USC00519523'),\n",
       " ('2016-08-24', 'USC00519523'),\n",
       " ('2016-08-25', 'USC00519523'),\n",
       " ('2016-08-26', 'USC00519523'),\n",
       " ('2016-08-27', 'USC00519523'),\n",
       " ('2016-08-28', 'USC00519523'),\n",
       " ('2016-08-29', 'USC00519523'),\n",
       " ('2016-08-30', 'USC00519523'),\n",
       " ('2016-08-31', 'USC00519523'),\n",
       " ('2016-09-02', 'USC00519523'),\n",
       " ('2016-09-03', 'USC00519523'),\n",
       " ('2016-09-04', 'USC00519523'),\n",
       " ('2016-09-05', 'USC00519523'),\n",
       " ('2016-09-06', 'USC00519523'),\n",
       " ('2016-09-07', 'USC00519523'),\n",
       " ('2016-09-08', 'USC00519523'),\n",
       " ('2016-09-09', 'USC00519523'),\n",
       " ('2016-09-10', 'USC00519523'),\n",
       " ('2016-09-11', 'USC00519523'),\n",
       " ('2016-09-12', 'USC00519523'),\n",
       " ('2016-09-13', 'USC00519523'),\n",
       " ('2016-09-14', 'USC00519523'),\n",
       " ('2016-09-15', 'USC00519523'),\n",
       " ('2016-09-16', 'USC00519523'),\n",
       " ('2016-09-17', 'USC00519523'),\n",
       " ('2016-09-18', 'USC00519523'),\n",
       " ('2016-09-19', 'USC00519523'),\n",
       " ('2016-09-20', 'USC00519523'),\n",
       " ('2016-09-21', 'USC00519523'),\n",
       " ('2016-09-22', 'USC00519523'),\n",
       " ('2016-09-23', 'USC00519523'),\n",
       " ('2016-09-24', 'USC00519523'),\n",
       " ('2016-09-25', 'USC00519523'),\n",
       " ('2016-09-26', 'USC00519523'),\n",
       " ('2016-09-27', 'USC00519523'),\n",
       " ('2016-09-28', 'USC00519523'),\n",
       " ('2016-09-29', 'USC00519523'),\n",
       " ('2016-09-30', 'USC00519523'),\n",
       " ('2016-10-01', 'USC00519523'),\n",
       " ('2016-10-02', 'USC00519523'),\n",
       " ('2016-10-03', 'USC00519523'),\n",
       " ('2016-10-04', 'USC00519523'),\n",
       " ('2016-10-05', 'USC00519523'),\n",
       " ('2016-10-06', 'USC00519523'),\n",
       " ('2016-10-07', 'USC00519523'),\n",
       " ('2016-10-08', 'USC00519523'),\n",
       " ('2016-10-09', 'USC00519523'),\n",
       " ('2016-10-10', 'USC00519523'),\n",
       " ('2016-10-11', 'USC00519523'),\n",
       " ('2016-10-12', 'USC00519523'),\n",
       " ('2016-10-13', 'USC00519523'),\n",
       " ('2016-10-14', 'USC00519523'),\n",
       " ('2016-10-15', 'USC00519523'),\n",
       " ('2016-10-16', 'USC00519523'),\n",
       " ('2016-10-17', 'USC00519523'),\n",
       " ('2016-10-18', 'USC00519523'),\n",
       " ('2016-10-19', 'USC00519523'),\n",
       " ('2016-10-21', 'USC00519523'),\n",
       " ('2016-10-22', 'USC00519523'),\n",
       " ('2016-10-23', 'USC00519523'),\n",
       " ('2016-10-24', 'USC00519523'),\n",
       " ('2016-10-25', 'USC00519523'),\n",
       " ('2016-10-26', 'USC00519523'),\n",
       " ('2016-10-27', 'USC00519523'),\n",
       " ('2016-10-28', 'USC00519523'),\n",
       " ('2016-10-29', 'USC00519523'),\n",
       " ('2016-10-30', 'USC00519523'),\n",
       " ('2016-10-31', 'USC00519523'),\n",
       " ('2016-11-01', 'USC00519523'),\n",
       " ('2016-11-02', 'USC00519523'),\n",
       " ('2016-11-03', 'USC00519523'),\n",
       " ('2016-11-04', 'USC00519523'),\n",
       " ('2016-11-05', 'USC00519523'),\n",
       " ('2016-11-06', 'USC00519523'),\n",
       " ('2016-11-07', 'USC00519523'),\n",
       " ('2016-11-08', 'USC00519523'),\n",
       " ('2016-11-09', 'USC00519523'),\n",
       " ('2016-11-10', 'USC00519523'),\n",
       " ('2016-11-11', 'USC00519523'),\n",
       " ('2016-11-12', 'USC00519523'),\n",
       " ('2016-11-13', 'USC00519523'),\n",
       " ('2016-11-14', 'USC00519523'),\n",
       " ('2016-11-15', 'USC00519523'),\n",
       " ('2016-11-16', 'USC00519523'),\n",
       " ('2016-11-17', 'USC00519523'),\n",
       " ('2016-11-18', 'USC00519523'),\n",
       " ('2016-11-19', 'USC00519523'),\n",
       " ('2016-11-20', 'USC00519523'),\n",
       " ('2016-11-21', 'USC00519523'),\n",
       " ('2016-11-22', 'USC00519523'),\n",
       " ('2016-11-23', 'USC00519523'),\n",
       " ('2016-11-24', 'USC00519523'),\n",
       " ('2016-11-25', 'USC00519523'),\n",
       " ('2016-11-26', 'USC00519523'),\n",
       " ('2016-11-27', 'USC00519523'),\n",
       " ('2016-11-28', 'USC00519523'),\n",
       " ('2016-11-29', 'USC00519523'),\n",
       " ('2016-11-30', 'USC00519523'),\n",
       " ('2016-12-01', 'USC00519523'),\n",
       " ('2016-12-02', 'USC00519523'),\n",
       " ('2016-12-03', 'USC00519523'),\n",
       " ('2016-12-04', 'USC00519523'),\n",
       " ('2016-12-05', 'USC00519523'),\n",
       " ('2016-12-06', 'USC00519523'),\n",
       " ('2016-12-07', 'USC00519523'),\n",
       " ('2016-12-08', 'USC00519523'),\n",
       " ('2016-12-10', 'USC00519523'),\n",
       " ('2016-12-11', 'USC00519523'),\n",
       " ('2016-12-12', 'USC00519523'),\n",
       " ('2016-12-13', 'USC00519523'),\n",
       " ('2016-12-14', 'USC00519523'),\n",
       " ('2016-12-15', 'USC00519523'),\n",
       " ('2016-12-16', 'USC00519523'),\n",
       " ('2016-12-17', 'USC00519523'),\n",
       " ('2016-12-18', 'USC00519523'),\n",
       " ('2016-12-19', 'USC00519523'),\n",
       " ('2016-12-20', 'USC00519523'),\n",
       " ('2016-12-21', 'USC00519523'),\n",
       " ('2016-12-22', 'USC00519523'),\n",
       " ('2016-12-23', 'USC00519523'),\n",
       " ('2016-12-24', 'USC00519523'),\n",
       " ('2016-12-25', 'USC00519523'),\n",
       " ('2016-12-26', 'USC00519523'),\n",
       " ('2016-12-27', 'USC00519523'),\n",
       " ('2016-12-28', 'USC00519523'),\n",
       " ('2016-12-29', 'USC00519523'),\n",
       " ('2016-12-30', 'USC00519523'),\n",
       " ('2017-01-01', 'USC00519523'),\n",
       " ('2017-01-03', 'USC00519523'),\n",
       " ('2017-01-04', 'USC00519523'),\n",
       " ('2017-01-05', 'USC00519523'),\n",
       " ('2017-01-06', 'USC00519523'),\n",
       " ('2017-01-07', 'USC00519523'),\n",
       " ('2017-01-08', 'USC00519523'),\n",
       " ('2017-01-09', 'USC00519523'),\n",
       " ('2017-01-10', 'USC00519523'),\n",
       " ('2017-01-12', 'USC00519523'),\n",
       " ('2017-01-15', 'USC00519523'),\n",
       " ('2017-01-16', 'USC00519523'),\n",
       " ('2017-01-18', 'USC00519523'),\n",
       " ('2017-01-19', 'USC00519523'),\n",
       " ('2017-01-20', 'USC00519523'),\n",
       " ('2017-01-21', 'USC00519523'),\n",
       " ('2017-01-22', 'USC00519523'),\n",
       " ('2017-01-23', 'USC00519523'),\n",
       " ('2017-01-24', 'USC00519523'),\n",
       " ('2017-01-25', 'USC00519523'),\n",
       " ('2017-01-26', 'USC00519523'),\n",
       " ('2017-01-27', 'USC00519523'),\n",
       " ('2017-01-29', 'USC00519523'),\n",
       " ('2017-01-30', 'USC00519523'),\n",
       " ('2017-01-31', 'USC00519523'),\n",
       " ('2017-02-01', 'USC00519523'),\n",
       " ('2017-02-02', 'USC00519523'),\n",
       " ('2017-02-03', 'USC00519523'),\n",
       " ('2017-02-04', 'USC00519523'),\n",
       " ('2017-02-05', 'USC00519523'),\n",
       " ('2017-02-06', 'USC00519523'),\n",
       " ('2017-02-07', 'USC00519523'),\n",
       " ('2017-02-08', 'USC00519523'),\n",
       " ('2017-02-09', 'USC00519523'),\n",
       " ('2017-02-10', 'USC00519523'),\n",
       " ('2017-02-11', 'USC00519523'),\n",
       " ('2017-02-12', 'USC00519523'),\n",
       " ('2017-02-13', 'USC00519523'),\n",
       " ('2017-02-15', 'USC00519523'),\n",
       " ('2017-02-16', 'USC00519523'),\n",
       " ('2017-02-17', 'USC00519523'),\n",
       " ('2017-02-18', 'USC00519523'),\n",
       " ('2017-02-20', 'USC00519523'),\n",
       " ('2017-02-22', 'USC00519523'),\n",
       " ('2017-02-23', 'USC00519523'),\n",
       " ('2017-02-24', 'USC00519523'),\n",
       " ('2017-02-26', 'USC00519523'),\n",
       " ('2017-02-27', 'USC00519523'),\n",
       " ('2017-02-28', 'USC00519523'),\n",
       " ('2017-03-01', 'USC00519523'),\n",
       " ('2017-03-02', 'USC00519523'),\n",
       " ('2017-03-03', 'USC00519523'),\n",
       " ('2017-03-04', 'USC00519523'),\n",
       " ('2017-03-06', 'USC00519523'),\n",
       " ('2017-03-09', 'USC00519523'),\n",
       " ('2017-03-10', 'USC00519523'),\n",
       " ('2017-03-11', 'USC00519523'),\n",
       " ('2017-03-12', 'USC00519523'),\n",
       " ('2017-03-13', 'USC00519523'),\n",
       " ('2017-03-14', 'USC00519523'),\n",
       " ('2017-03-15', 'USC00519523'),\n",
       " ('2017-03-16', 'USC00519523'),\n",
       " ('2017-03-17', 'USC00519523'),\n",
       " ('2017-03-18', 'USC00519523'),\n",
       " ('2017-03-19', 'USC00519523'),\n",
       " ('2017-03-20', 'USC00519523'),\n",
       " ('2017-03-21', 'USC00519523'),\n",
       " ('2017-03-22', 'USC00519523'),\n",
       " ('2017-03-23', 'USC00519523'),\n",
       " ('2017-03-24', 'USC00519523'),\n",
       " ('2017-03-25', 'USC00519523'),\n",
       " ('2017-03-26', 'USC00519523'),\n",
       " ('2017-03-27', 'USC00519523'),\n",
       " ('2017-03-28', 'USC00519523'),\n",
       " ('2017-03-29', 'USC00519523'),\n",
       " ('2017-03-30', 'USC00519523'),\n",
       " ('2017-03-31', 'USC00519523'),\n",
       " ('2017-04-01', 'USC00519523'),\n",
       " ('2017-04-02', 'USC00519523'),\n",
       " ('2017-04-03', 'USC00519523'),\n",
       " ('2017-04-04', 'USC00519523'),\n",
       " ('2017-04-05', 'USC00519523'),\n",
       " ('2017-04-06', 'USC00519523'),\n",
       " ('2017-04-07', 'USC00519523'),\n",
       " ('2017-04-09', 'USC00519523'),\n",
       " ('2017-04-10', 'USC00519523'),\n",
       " ('2017-04-11', 'USC00519523'),\n",
       " ('2017-04-12', 'USC00519523'),\n",
       " ('2017-04-13', 'USC00519523'),\n",
       " ('2017-04-14', 'USC00519523'),\n",
       " ('2017-04-15', 'USC00519523'),\n",
       " ('2017-04-16', 'USC00519523'),\n",
       " ('2017-04-17', 'USC00519523'),\n",
       " ('2017-04-18', 'USC00519523'),\n",
       " ('2017-04-19', 'USC00519523'),\n",
       " ('2017-04-20', 'USC00519523'),\n",
       " ('2017-04-21', 'USC00519523'),\n",
       " ('2017-04-24', 'USC00519523'),\n",
       " ('2017-04-25', 'USC00519523'),\n",
       " ('2017-04-26', 'USC00519523'),\n",
       " ('2017-04-27', 'USC00519523'),\n",
       " ('2017-04-28', 'USC00519523'),\n",
       " ('2017-04-29', 'USC00519523'),\n",
       " ('2017-04-30', 'USC00519523'),\n",
       " ('2017-05-01', 'USC00519523'),\n",
       " ('2017-05-02', 'USC00519523'),\n",
       " ('2017-05-03', 'USC00519523'),\n",
       " ('2017-05-04', 'USC00519523'),\n",
       " ('2017-05-05', 'USC00519523'),\n",
       " ('2017-05-06', 'USC00519523'),\n",
       " ('2017-05-07', 'USC00519523'),\n",
       " ('2017-05-08', 'USC00519523'),\n",
       " ('2017-05-09', 'USC00519523'),\n",
       " ('2017-05-10', 'USC00519523'),\n",
       " ('2017-05-11', 'USC00519523'),\n",
       " ('2017-05-12', 'USC00519523'),\n",
       " ('2017-05-13', 'USC00519523'),\n",
       " ('2017-05-14', 'USC00519523'),\n",
       " ('2017-05-15', 'USC00519523'),\n",
       " ('2017-05-16', 'USC00519523'),\n",
       " ('2017-05-17', 'USC00519523'),\n",
       " ('2017-05-18', 'USC00519523'),\n",
       " ('2017-05-20', 'USC00519523'),\n",
       " ('2017-05-21', 'USC00519523'),\n",
       " ('2017-05-22', 'USC00519523'),\n",
       " ('2017-05-23', 'USC00519523'),\n",
       " ('2017-05-24', 'USC00519523'),\n",
       " ('2017-05-25', 'USC00519523'),\n",
       " ('2017-05-26', 'USC00519523'),\n",
       " ('2017-05-27', 'USC00519523'),\n",
       " ('2017-05-28', 'USC00519523'),\n",
       " ('2017-05-29', 'USC00519523'),\n",
       " ('2017-05-30', 'USC00519523'),\n",
       " ('2017-05-31', 'USC00519523'),\n",
       " ('2017-06-01', 'USC00519523'),\n",
       " ('2017-06-02', 'USC00519523'),\n",
       " ('2017-06-03', 'USC00519523'),\n",
       " ('2017-06-04', 'USC00519523'),\n",
       " ('2017-06-05', 'USC00519523'),\n",
       " ('2017-06-06', 'USC00519523'),\n",
       " ('2017-06-07', 'USC00519523'),\n",
       " ('2017-06-08', 'USC00519523'),\n",
       " ('2017-06-09', 'USC00519523'),\n",
       " ('2017-06-10', 'USC00519523'),\n",
       " ('2017-06-11', 'USC00519523'),\n",
       " ('2017-06-12', 'USC00519523'),\n",
       " ('2017-06-13', 'USC00519523'),\n",
       " ('2017-06-14', 'USC00519523'),\n",
       " ('2017-06-15', 'USC00519523'),\n",
       " ('2017-06-16', 'USC00519523'),\n",
       " ('2017-06-17', 'USC00519523'),\n",
       " ('2017-06-18', 'USC00519523'),\n",
       " ('2017-06-19', 'USC00519523'),\n",
       " ('2017-06-21', 'USC00519523'),\n",
       " ('2017-06-22', 'USC00519523'),\n",
       " ('2017-06-23', 'USC00519523'),\n",
       " ('2017-06-24', 'USC00519523'),\n",
       " ('2017-06-25', 'USC00519523'),\n",
       " ('2017-06-26', 'USC00519523'),\n",
       " ('2017-06-27', 'USC00519523'),\n",
       " ('2017-06-28', 'USC00519523'),\n",
       " ('2017-06-29', 'USC00519523'),\n",
       " ('2017-06-30', 'USC00519523'),\n",
       " ('2017-07-02', 'USC00519523'),\n",
       " ('2017-07-03', 'USC00519523'),\n",
       " ('2017-07-05', 'USC00519523'),\n",
       " ('2017-07-06', 'USC00519523'),\n",
       " ('2017-07-07', 'USC00519523'),\n",
       " ('2017-07-08', 'USC00519523'),\n",
       " ('2017-07-09', 'USC00519523'),\n",
       " ('2017-07-10', 'USC00519523'),\n",
       " ('2017-07-11', 'USC00519523'),\n",
       " ('2017-07-12', 'USC00519523'),\n",
       " ('2017-07-13', 'USC00519523'),\n",
       " ('2017-07-14', 'USC00519523'),\n",
       " ('2017-07-15', 'USC00519523'),\n",
       " ('2017-07-16', 'USC00519523'),\n",
       " ('2017-07-17', 'USC00519523'),\n",
       " ('2017-07-18', 'USC00519523'),\n",
       " ('2017-07-19', 'USC00519523'),\n",
       " ('2017-07-20', 'USC00519523'),\n",
       " ('2017-07-21', 'USC00519523'),\n",
       " ('2017-07-22', 'USC00519523'),\n",
       " ('2017-07-24', 'USC00519523'),\n",
       " ('2017-07-25', 'USC00519523'),\n",
       " ('2017-07-26', 'USC00519523'),\n",
       " ('2017-07-27', 'USC00519523'),\n",
       " ('2017-07-28', 'USC00519523'),\n",
       " ('2017-07-29', 'USC00519523'),\n",
       " ('2017-07-30', 'USC00519523'),\n",
       " ('2017-07-31', 'USC00519523'),\n",
       " ('2017-08-01', 'USC00519523'),\n",
       " ('2017-08-02', 'USC00519523'),\n",
       " ('2017-08-03', 'USC00519523'),\n",
       " ('2017-08-04', 'USC00519523'),\n",
       " ('2017-08-06', 'USC00519523'),\n",
       " ('2017-08-07', 'USC00519523'),\n",
       " ('2017-08-08', 'USC00519523'),\n",
       " ('2017-08-10', 'USC00519523'),\n",
       " ('2017-08-11', 'USC00519523'),\n",
       " ('2017-08-12', 'USC00519523'),\n",
       " ('2017-08-13', 'USC00519523'),\n",
       " ('2017-08-14', 'USC00519523'),\n",
       " ('2017-08-15', 'USC00519523'),\n",
       " ('2017-08-16', 'USC00519523'),\n",
       " ('2017-08-17', 'USC00519523'),\n",
       " ('2017-08-19', 'USC00519523'),\n",
       " ('2017-08-21', 'USC00519523'),\n",
       " ('2017-08-22', 'USC00519523'),\n",
       " ('2017-08-23', 'USC00519523')]"
      ]
     },
     "execution_count": 36,
     "metadata": {},
     "output_type": "execute_result"
    }
   ],
   "source": [
    "#Design a query to retrieve the last 12 months of temperature observation data (tobs).\n",
    "\n",
    "Filter by the station with the highest number of observations.\n",
    "session.query(Measurement.date, Measurement.station).\\\n",
    "    filter(Measurement.station == 'USC00519523').\\\n",
    "    filter(Measurement.date >= query_date).all()"
   ]
  },
  {
   "cell_type": "code",
   "execution_count": null,
   "metadata": {},
   "outputs": [],
   "source": []
  },
  {
   "cell_type": "code",
   "execution_count": null,
   "metadata": {},
   "outputs": [],
   "source": []
  },
  {
   "cell_type": "code",
   "execution_count": null,
   "metadata": {},
   "outputs": [],
   "source": []
  }
 ],
 "metadata": {
  "kernelspec": {
   "display_name": "Python 3",
   "language": "python",
   "name": "python3"
  },
  "language_info": {
   "codemirror_mode": {
    "name": "ipython",
    "version": 3
   },
   "file_extension": ".py",
   "mimetype": "text/x-python",
   "name": "python",
   "nbconvert_exporter": "python",
   "pygments_lexer": "ipython3",
   "version": "3.7.3"
  }
 },
 "nbformat": 4,
 "nbformat_minor": 2
}
